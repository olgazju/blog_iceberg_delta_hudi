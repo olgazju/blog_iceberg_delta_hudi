{
 "cells": [
  {
   "cell_type": "code",
   "execution_count": 1,
   "id": "ce008fea-3e04-46ff-83d7-aea51be52970",
   "metadata": {},
   "outputs": [
    {
     "name": "stdout",
     "output_type": "stream",
     "text": [
      "Spark: 3.5.3\n"
     ]
    }
   ],
   "source": [
    "from pyspark.sql import SparkSession\n",
    "\n",
    "packages = \",\".join([\n",
    "    \"org.apache.iceberg:iceberg-spark-runtime-3.5_2.12:1.9.2\",\n",
    "    \"org.apache.hadoop:hadoop-aws:3.3.4\",\n",
    "    \"com.amazonaws:aws-java-sdk-bundle:1.12.530\",\n",
    "])\n",
    "\n",
    "spark = (\n",
    "    SparkSession.builder\n",
    "      .appName(\"Iceberg Lakehouse on MinIO\")\n",
    "      .config(\"spark.jars.packages\", packages)\n",
    "      .config(\"spark.sql.extensions\", \"org.apache.iceberg.spark.extensions.IcebergSparkSessionExtensions\")\n",
    "      .config(\"spark.sql.defaultCatalog\", \"lake\")\n",
    "\n",
    "      # Iceberg каталог (HadoopCatalog) \n",
    "      .config(\"spark.sql.catalog.lake\", \"org.apache.iceberg.spark.SparkCatalog\")\n",
    "      .config(\"spark.sql.catalog.lake.type\", \"hadoop\")\n",
    "      .config(\"spark.sql.catalog.lake.warehouse\", \"s3a://my-bucket/iceberg-lakehouse\")\n",
    "\n",
    "      .config(\"spark.hadoop.fs.s3a.endpoint\", \"http://minio:9000\")\n",
    "      .config(\"spark.hadoop.fs.s3a.path.style.access\", \"true\")\n",
    "      .config(\"spark.hadoop.fs.s3a.connection.ssl.enabled\", \"false\")\n",
    "      .config(\"spark.hadoop.fs.s3a.access.key\", \"minioadmin\")\n",
    "      .config(\"spark.hadoop.fs.s3a.secret.key\", \"minioadmin\")\n",
    "      .config(\"spark.hadoop.fs.s3a.aws.credentials.provider\", \"org.apache.hadoop.fs.s3a.SimpleAWSCredentialsProvider\")\n",
    "\n",
    "      .getOrCreate()\n",
    ")\n",
    "\n",
    "print(\"Spark:\", spark.version)\n"
   ]
  },
  {
   "cell_type": "code",
   "execution_count": 3,
   "id": "621c011d-78cc-4c31-8467-f753ab565d08",
   "metadata": {},
   "outputs": [
    {
     "data": {
      "text/plain": [
       "DataFrame[]"
      ]
     },
     "execution_count": 3,
     "metadata": {},
     "output_type": "execute_result"
    }
   ],
   "source": [
    "spark.catalog.setCurrentCatalog(\"lake\")\n",
    "spark.sql(\"CREATE NAMESPACE IF NOT EXISTS nyc\")\n",
    "\n",
    "spark.sql(\"\"\"\n",
    "CREATE TABLE IF NOT EXISTS nyc.taxis\n",
    "USING iceberg\n",
    "AS\n",
    "SELECT * FROM parquet.`s3a://my-bucket/iceberg-lakehouse/yellow_tripdata_2025-05.parquet`\n",
    "UNION ALL\n",
    "SELECT * FROM parquet.`s3a://my-bucket/iceberg-lakehouse/yellow_tripdata_2025-06.parquet`\n",
    "\"\"\")\n"
   ]
  },
  {
   "cell_type": "code",
   "execution_count": 8,
   "id": "918cae61-6bc4-4845-9b16-11b6addd16d6",
   "metadata": {},
   "outputs": [
    {
     "name": "stdout",
     "output_type": "stream",
     "text": [
      "+-----------------------+-------------------+---------+-------------------+\n",
      "|made_current_at        |snapshot_id        |parent_id|is_current_ancestor|\n",
      "+-----------------------+-------------------+---------+-------------------+\n",
      "|2025-08-08 11:46:26.317|1295814594149623800|NULL     |true               |\n",
      "+-----------------------+-------------------+---------+-------------------+\n",
      "\n"
     ]
    }
   ],
   "source": [
    "# \n",
    "spark.sql(\"\"\"\n",
    "SELECT * FROM nyc.taxis.history ORDER BY made_current_at DESC;\n",
    "\"\"\").show(truncate=False)\n"
   ]
  },
  {
   "cell_type": "code",
   "execution_count": 9,
   "id": "775f2871-8f08-4364-a7e4-b512e4b8b4c6",
   "metadata": {},
   "outputs": [
    {
     "name": "stdout",
     "output_type": "stream",
     "text": [
      "+-------+--------------------------------------------------------------------------------------------------------------+------------+------------------+\n",
      "|content|file_path                                                                                                     |record_count|file_size_in_bytes|\n",
      "+-------+--------------------------------------------------------------------------------------------------------------+------------+------------------+\n",
      "|0      |s3a://my-bucket/iceberg-lakehouse/nyc/taxis/data/00001-3-900a1090-458d-49a7-aaa0-faf16f9bc521-0-00001.parquet |1048576     |16886663          |\n",
      "|0      |s3a://my-bucket/iceberg-lakehouse/nyc/taxis/data/00003-5-900a1090-458d-49a7-aaa0-faf16f9bc521-0-00001.parquet |1048576     |16960598          |\n",
      "|0      |s3a://my-bucket/iceberg-lakehouse/nyc/taxis/data/00006-8-900a1090-458d-49a7-aaa0-faf16f9bc521-0-00001.parquet |1048576     |16872467          |\n",
      "|0      |s3a://my-bucket/iceberg-lakehouse/nyc/taxis/data/00009-11-900a1090-458d-49a7-aaa0-faf16f9bc521-0-00001.parquet|1048576     |16697644          |\n",
      "|0      |s3a://my-bucket/iceberg-lakehouse/nyc/taxis/data/00010-12-900a1090-458d-49a7-aaa0-faf16f9bc521-0-00001.parquet|397541      |6495049           |\n",
      "|0      |s3a://my-bucket/iceberg-lakehouse/nyc/taxis/data/00013-15-900a1090-458d-49a7-aaa0-faf16f9bc521-0-00001.parquet|1048576     |17062882          |\n",
      "|0      |s3a://my-bucket/iceberg-lakehouse/nyc/taxis/data/00016-18-900a1090-458d-49a7-aaa0-faf16f9bc521-0-00001.parquet|1048576     |17073641          |\n",
      "|0      |s3a://my-bucket/iceberg-lakehouse/nyc/taxis/data/00018-20-900a1090-458d-49a7-aaa0-faf16f9bc521-0-00001.parquet|1048576     |17094953          |\n",
      "|0      |s3a://my-bucket/iceberg-lakehouse/nyc/taxis/data/00021-23-900a1090-458d-49a7-aaa0-faf16f9bc521-0-00001.parquet|1048576     |15660782          |\n",
      "|0      |s3a://my-bucket/iceberg-lakehouse/nyc/taxis/data/00023-25-900a1090-458d-49a7-aaa0-faf16f9bc521-0-00001.parquet|128656      |2258654           |\n",
      "+-------+--------------------------------------------------------------------------------------------------------------+------------+------------------+\n",
      "\n"
     ]
    }
   ],
   "source": [
    "# \n",
    "spark.sql(\"\"\"\n",
    "SELECT content, file_path, record_count, file_size_in_bytes\n",
    "FROM nyc.taxis.files;\n",
    "\"\"\").show(truncate=False)\n"
   ]
  },
  {
   "cell_type": "code",
   "execution_count": 11,
   "id": "d09d9979-4e08-47fa-804d-da2a0b2ff78c",
   "metadata": {},
   "outputs": [
    {
     "name": "stdout",
     "output_type": "stream",
     "text": [
      "+-----------------------+-------------------+-------------------+-------------------+\n",
      "|made_current_at        |snapshot_id        |parent_id          |is_current_ancestor|\n",
      "+-----------------------+-------------------+-------------------+-------------------+\n",
      "|2025-08-08 13:31:27.705|2624229959482912117|1295814594149623800|true               |\n",
      "|2025-08-08 11:46:26.317|1295814594149623800|NULL               |true               |\n",
      "+-----------------------+-------------------+-------------------+-------------------+\n",
      "\n"
     ]
    }
   ],
   "source": [
    "spark.sql(\"\"\"-- simulate another batch arriving\n",
    "INSERT INTO nyc.taxis\n",
    "SELECT * FROM parquet.`s3a://my-bucket/iceberg-lakehouse/yellow_tripdata_2025-06.parquet` WHERE rand() < 0.10;\n",
    "\"\"\")\n",
    "\n",
    "spark.sql(\"\"\"-- simulate another batch arriving\n",
    "SELECT * FROM nyc.taxis.history ORDER BY made_current_at DESC;\n",
    "\"\"\").show(truncate=False)\n"
   ]
  },
  {
   "cell_type": "code",
   "execution_count": 16,
   "id": "01171428-2ae1-440f-bb1b-50e6db803628",
   "metadata": {},
   "outputs": [
    {
     "name": "stdout",
     "output_type": "stream",
     "text": [
      "+--------+\n",
      "|count(1)|\n",
      "+--------+\n",
      "|8914805 |\n",
      "+--------+\n",
      "\n",
      "+--------+\n",
      "|count(1)|\n",
      "+--------+\n",
      "|9348730 |\n",
      "+--------+\n",
      "\n"
     ]
    }
   ],
   "source": [
    "\n",
    "spark.sql(\"\"\"-- get a snapshot_id from history, then query that point in time\n",
    "SELECT count(*) FROM nyc.taxis VERSION AS OF 1295814594149623800 LIMIT 5;\n",
    "\"\"\").show(truncate=False)\n",
    "\n",
    "spark.sql(\"\"\"-- get a snapshot_id from history, then query that point in time\n",
    "SELECT count(*) FROM nyc.taxis VERSION AS OF 2624229959482912117 LIMIT 5;\n",
    "\"\"\").show(truncate=False)\n"
   ]
  },
  {
   "cell_type": "code",
   "execution_count": 18,
   "id": "6a85ec6c-863f-4cef-bd2a-a644ff60352c",
   "metadata": {},
   "outputs": [
    {
     "data": {
      "text/plain": [
       "DataFrame[previous_snapshot_id: bigint, current_snapshot_id: bigint]"
      ]
     },
     "execution_count": 18,
     "metadata": {},
     "output_type": "execute_result"
    }
   ],
   "source": [
    "spark.sql(\"\"\" \n",
    "CALL lake.system.rollback_to_snapshot('nyc.taxis', 1295814594149623800)\n",
    "\"\"\")\n"
   ]
  },
  {
   "cell_type": "code",
   "execution_count": 19,
   "id": "3c38fbb1-d385-45a0-8183-15061504f3c4",
   "metadata": {},
   "outputs": [
    {
     "name": "stdout",
     "output_type": "stream",
     "text": [
      "+-----------------------+-------------------+-------------------+-------------------+\n",
      "|made_current_at        |snapshot_id        |parent_id          |is_current_ancestor|\n",
      "+-----------------------+-------------------+-------------------+-------------------+\n",
      "|2025-08-08 13:42:59.89 |1295814594149623800|NULL               |true               |\n",
      "|2025-08-08 13:31:27.705|2624229959482912117|1295814594149623800|false              |\n",
      "|2025-08-08 11:46:26.317|1295814594149623800|NULL               |true               |\n",
      "+-----------------------+-------------------+-------------------+-------------------+\n",
      "\n"
     ]
    }
   ],
   "source": [
    "\n",
    "spark.sql(\"\"\"-- verify it took effect\n",
    "SELECT * FROM nyc.taxis.history ORDER BY made_current_at DESC;\n",
    "\"\"\").show(truncate=False)"
   ]
  },
  {
   "cell_type": "code",
   "execution_count": 20,
   "id": "d19a52ed-58f1-40e2-8576-b8b08d27cf8f",
   "metadata": {},
   "outputs": [
    {
     "name": "stdout",
     "output_type": "stream",
     "text": [
      "+--------+\n",
      "|count(1)|\n",
      "+--------+\n",
      "|8914805 |\n",
      "+--------+\n",
      "\n"
     ]
    }
   ],
   "source": [
    "spark.sql(\"\"\"-- get a snapshot_id from history, then query that point in time\n",
    "SELECT count(*) FROM nyc.taxis  ;\n",
    "\"\"\").show(truncate=False)"
   ]
  },
  {
   "cell_type": "code",
   "execution_count": 21,
   "id": "2274c435-a0dc-43c7-9c6d-f888cdda9869",
   "metadata": {},
   "outputs": [
    {
     "name": "stdout",
     "output_type": "stream",
     "text": [
      "+-----------+--------+\n",
      "|fare_bucket|count(1)|\n",
      "+-----------+--------+\n",
      "|low        |765654  |\n",
      "|mid        |5743528 |\n",
      "|high       |2405623 |\n",
      "+-----------+--------+\n",
      "\n"
     ]
    }
   ],
   "source": [
    "\n",
    "\n",
    "spark.sql(\"\"\"ALTER TABLE nyc.taxis ADD COLUMN fare_bucket STRING AFTER total_amount;\n",
    "\"\"\")\n",
    "\n",
    "spark.sql(\"\"\"-- update a derived field to prove reads see the new column\n",
    "UPDATE nyc.taxis\n",
    "SET fare_bucket = CASE\n",
    "  WHEN total_amount < 10 THEN 'low'\n",
    "  WHEN total_amount < 30 THEN 'mid'\n",
    "  ELSE 'high'\n",
    "END\n",
    "WHERE total_amount IS NOT NULL;\n",
    "\"\"\")\n",
    "\n",
    "spark.sql(\"\"\"SELECT fare_bucket, COUNT(*) FROM nyc.taxis GROUP BY fare_bucket;\n",
    "\"\"\").show(truncate=False)\n"
   ]
  },
  {
   "cell_type": "code",
   "execution_count": null,
   "id": "96e4ab72-ea8b-4c68-97be-7c7d414ae780",
   "metadata": {},
   "outputs": [],
   "source": []
  }
 ],
 "metadata": {
  "kernelspec": {
   "display_name": "Python 3 (ipykernel)",
   "language": "python",
   "name": "python3"
  },
  "language_info": {
   "codemirror_mode": {
    "name": "ipython",
    "version": 3
   },
   "file_extension": ".py",
   "mimetype": "text/x-python",
   "name": "python",
   "nbconvert_exporter": "python",
   "pygments_lexer": "ipython3",
   "version": "3.11.10"
  }
 },
 "nbformat": 4,
 "nbformat_minor": 5
}
